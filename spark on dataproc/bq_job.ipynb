{
  "nbformat": 4,
  "nbformat_minor": 0,
  "metadata": {
    "colab": {
      "name": "bq job.ipynb",
      "provenance": []
    },
    "kernelspec": {
      "name": "python3",
      "display_name": "Python 3"
    }
  },
  "cells": [
    {
      "cell_type": "markdown",
      "metadata": {
        "id": "GTjI3K8ga1Ji",
        "colab_type": "text"
      },
      "source": [
        "# Migrating from Spark to BigQuery via Dataproc "
      ]
    },
    {
      "cell_type": "code",
      "metadata": {
        "id": "ki9evUqWaxgG",
        "colab_type": "code",
        "colab": {}
      },
      "source": [
        "# Catch-up cell. Run if you did not do previous notebooks of this sequence\n",
        "!wget http://kdd.ics.uci.edu/databases/kddcup99/kddcup.data_10_percent.gz\n",
        "BUCKET=''  # CHANGE\n",
        "!gsutil cp kdd* gs://$BUCKET/"
      ],
      "execution_count": 0,
      "outputs": []
    },
    {
      "cell_type": "markdown",
      "metadata": {
        "id": "Okcd2_7cbBdP",
        "colab_type": "text"
      },
      "source": [
        "# Load data into BigQuery"
      ]
    },
    {
      "cell_type": "code",
      "metadata": {
        "id": "1Ssoh9v3bCOO",
        "colab_type": "code",
        "colab": {}
      },
      "source": [
        "!bq mk sparktobq"
      ],
      "execution_count": 0,
      "outputs": []
    },
    {
      "cell_type": "code",
      "metadata": {
        "id": "ZOlDEnv2bEie",
        "colab_type": "code",
        "colab": {}
      },
      "source": [
        "\n",
        "BUCKET='cloud-training-demos-ml'  # CHANGE\n",
        "!bq --location=US load --autodetect --source_format=CSV sparktobq.kdd_cup_raw gs://$BUCKET/kddcup.data_10_percent.gz"
      ],
      "execution_count": 0,
      "outputs": []
    },
    {
      "cell_type": "markdown",
      "metadata": {
        "id": "cOOXPfYRbNBe",
        "colab_type": "text"
      },
      "source": [
        "# BigQuery queries\n",
        "We can replace much of the initial exploratory code by SQL statements."
      ]
    },
    {
      "cell_type": "code",
      "metadata": {
        "id": "zcYYHcv5bHhH",
        "colab_type": "code",
        "colab": {}
      },
      "source": [
        "%%bigquery\n",
        "SELECT * FROM sparktobq.kdd_cup_raw LIMIT 5"
      ],
      "execution_count": 0,
      "outputs": []
    },
    {
      "cell_type": "code",
      "metadata": {
        "id": "9UHS_WE4b2CY",
        "colab_type": "code",
        "colab": {}
      },
      "source": [
        "%%bigquery\n",
        "\n",
        "CREATE OR REPLACE TABLE sparktobq.kdd_cup AS\n",
        "\n",
        "SELECT \n",
        "    int64_field_0 AS duration,\n",
        "    string_field_1 AS protocol_type,\n",
        "    string_field_2 AS service,\n",
        "    string_field_3 AS flag,\n",
        "    int64_field_4 AS src_bytes,\n",
        "    int64_field_5 AS dst_bytes,\n",
        "    int64_field_6 AS wrong_fragment,\n",
        "    int64_field_7 AS urgent,\n",
        "    int64_field_8 AS hot,\n",
        "    int64_field_9 AS num_failed_logins,\n",
        "    int64_field_11 AS num_compromised,\n",
        "    int64_field_13 AS su_attempted,\n",
        "    int64_field_14 AS num_root,\n",
        "    int64_field_15 AS num_file_creations,\n",
        "    string_field_41 AS label\n",
        "FROM\n",
        "    sparktobq.kdd_cup_raw"
      ],
      "execution_count": 0,
      "outputs": []
    },
    {
      "cell_type": "code",
      "metadata": {
        "id": "-QejSkspb3ZO",
        "colab_type": "code",
        "colab": {}
      },
      "source": [
        "\n",
        "%%bigquery\n",
        "SELECT * FROM sparktobq.kdd_cup LIMIT 5"
      ],
      "execution_count": 0,
      "outputs": []
    },
    {
      "cell_type": "markdown",
      "metadata": {
        "id": "IIEFjkGjb7MP",
        "colab_type": "text"
      },
      "source": [
        "#Spark analysis\n",
        "Replace Spark analysis by BigQuery SQL"
      ]
    },
    {
      "cell_type": "code",
      "metadata": {
        "id": "_2pv-9m7b8MZ",
        "colab_type": "code",
        "colab": {}
      },
      "source": [
        "%%bigquery connections_by_protocol\n",
        "SELECT COUNT(*) AS count\n",
        "FROM sparktobq.kdd_cup\n",
        "GROUP BY protocol_type\n",
        "ORDER by count ASC"
      ],
      "execution_count": 0,
      "outputs": []
    },
    {
      "cell_type": "code",
      "metadata": {
        "id": "flp0js3KcDDG",
        "colab_type": "code",
        "colab": {}
      },
      "source": [
        "connections_by_protocol"
      ],
      "execution_count": 0,
      "outputs": []
    },
    {
      "cell_type": "code",
      "metadata": {
        "id": "TpCEmk1ScIb-",
        "colab_type": "code",
        "colab": {}
      },
      "source": [
        "%%bigquery attack_stats\n",
        "                           SELECT \n",
        "                             protocol_type, \n",
        "                             CASE label\n",
        "                               WHEN 'normal.' THEN 'no attack'\n",
        "                               ELSE 'attack'\n",
        "                             END AS state,\n",
        "                             COUNT(*) as total_freq,\n",
        "                             ROUND(AVG(src_bytes), 2) as mean_src_bytes,\n",
        "                             ROUND(AVG(dst_bytes), 2) as mean_dst_bytes,\n",
        "                             ROUND(AVG(duration), 2) as mean_duration,\n",
        "                             SUM(num_failed_logins) as total_failed_logins,\n",
        "                             SUM(num_compromised) as total_compromised,\n",
        "                             SUM(num_file_creations) as total_file_creations,\n",
        "                             SUM(su_attempted) as total_root_attempts,\n",
        "                             SUM(num_root) as total_root_acceses\n",
        "                           FROM sparktobq.kdd_cup\n",
        "                           GROUP BY protocol_type, state\n",
        "                           ORDER BY 3 DESC"
      ],
      "execution_count": 0,
      "outputs": []
    },
    {
      "cell_type": "code",
      "metadata": {
        "id": "EC_B1isAcLBV",
        "colab_type": "code",
        "colab": {}
      },
      "source": [
        "%matplotlib inline\n",
        "ax = attack_stats.plot.bar(x='protocol_type', subplots=True, figsize=(10,25))"
      ],
      "execution_count": 0,
      "outputs": []
    },
    {
      "cell_type": "code",
      "metadata": {
        "id": "hiK0zvXlcOkV",
        "colab_type": "code",
        "colab": {}
      },
      "source": [
        "import google.cloud.storage as gcs\n",
        "\n",
        "# save locally\n",
        "ax[0].get_figure().savefig('report.png');\n",
        "connections_by_protocol.to_csv(\"connections_by_protocol.csv\")\n",
        "\n",
        "# upload to GCS\n",
        "bucket = gcs.Client().get_bucket(BUCKET)\n",
        "for blob in bucket.list_blobs(prefix='sparktobq/'):\n",
        "    blob.delete()\n",
        "for fname in ['report.png', 'connections_by_protocol.csv']:\n",
        "    bucket.blob('sparktobq/{}'.format(fname)).upload_from_filename(fname)"
      ],
      "execution_count": 0,
      "outputs": []
    }
  ]
}
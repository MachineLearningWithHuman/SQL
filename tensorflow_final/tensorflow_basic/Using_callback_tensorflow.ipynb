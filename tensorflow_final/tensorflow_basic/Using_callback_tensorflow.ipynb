{
  "nbformat": 4,
  "nbformat_minor": 0,
  "metadata": {
    "colab": {
      "name": "Using_callback_tensorflow.ipynb",
      "provenance": []
    },
    "kernelspec": {
      "name": "python3",
      "display_name": "Python 3"
    }
  },
  "cells": [
    {
      "cell_type": "markdown",
      "metadata": {
        "id": "EAdlP2dW3Bfp"
      },
      "source": [
        "## Import \r\n",
        "let's only import tensorflow"
      ]
    },
    {
      "cell_type": "code",
      "metadata": {
        "id": "cCTs_lPJtVCD"
      },
      "source": [
        "import tensorflow as tf"
      ],
      "execution_count": 1,
      "outputs": []
    },
    {
      "cell_type": "markdown",
      "metadata": {
        "id": "hUfzO0GA3Ucu"
      },
      "source": [
        "#Build The Function CallBack"
      ]
    },
    {
      "cell_type": "code",
      "metadata": {
        "id": "0Clve9nv3Kdz"
      },
      "source": [
        "class myCallback(tf.keras.callbacks.Callback):\r\n",
        "  def on_epoch_end(self,epoch,logs={}):\r\n",
        "    if(logs.get(\"accuracy\")>0.6):\r\n",
        "      print(\"\\nReached 60% accuracy so cancelling training!\")\r\n",
        "      self.model.stop_training = True\r\n",
        "      "
      ],
      "execution_count": 2,
      "outputs": []
    },
    {
      "cell_type": "markdown",
      "metadata": {
        "id": "zMB8a2xZ4O62"
      },
      "source": [
        "#DATA"
      ]
    },
    {
      "cell_type": "code",
      "metadata": {
        "colab": {
          "base_uri": "https://localhost:8080/"
        },
        "id": "Nvo6tTVZ4JCi",
        "outputId": "b7bde25c-7e2c-4e85-fdd4-c861e395c46d"
      },
      "source": [
        "mnist = tf.keras.datasets.fashion_mnist\r\n",
        "(x_train, y_train),(x_test, y_test) = mnist.load_data()\r\n",
        "x_train, x_test = x_train / 255.0, x_test / 255.0"
      ],
      "execution_count": 4,
      "outputs": [
        {
          "output_type": "stream",
          "text": [
            "Downloading data from https://storage.googleapis.com/tensorflow/tf-keras-datasets/train-labels-idx1-ubyte.gz\n",
            "32768/29515 [=================================] - 0s 0us/step\n",
            "Downloading data from https://storage.googleapis.com/tensorflow/tf-keras-datasets/train-images-idx3-ubyte.gz\n",
            "26427392/26421880 [==============================] - 0s 0us/step\n",
            "Downloading data from https://storage.googleapis.com/tensorflow/tf-keras-datasets/t10k-labels-idx1-ubyte.gz\n",
            "8192/5148 [===============================================] - 0s 0us/step\n",
            "Downloading data from https://storage.googleapis.com/tensorflow/tf-keras-datasets/t10k-images-idx3-ubyte.gz\n",
            "4423680/4422102 [==============================] - 0s 0us/step\n"
          ],
          "name": "stdout"
        }
      ]
    },
    {
      "cell_type": "code",
      "metadata": {
        "colab": {
          "base_uri": "https://localhost:8080/"
        },
        "id": "DsR9LI4E4oZp",
        "outputId": "da98b7e1-5a01-4d95-c1d4-1ca5c0713fd3"
      },
      "source": [
        "callbacks = myCallback()\r\n",
        "\r\n",
        "model = tf.keras.models.Sequential([\r\n",
        "  tf.keras.layers.Flatten(input_shape=(28, 28)),\r\n",
        "  tf.keras.layers.Dense(512, activation=tf.nn.relu),\r\n",
        "  tf.keras.layers.Dense(10, activation=tf.nn.softmax)\r\n",
        "])\r\n",
        "model.compile(optimizer=tf.optimizers.Adam(),\r\n",
        "              loss='sparse_categorical_crossentropy',\r\n",
        "              metrics=['accuracy'])\r\n",
        "\r\n",
        "model.fit(x_train, y_train, epochs=10, callbacks=[callbacks])"
      ],
      "execution_count": 5,
      "outputs": [
        {
          "output_type": "stream",
          "text": [
            "Epoch 1/10\n",
            "1875/1875 [==============================] - 9s 4ms/step - loss: 0.5852 - accuracy: 0.7955\n",
            "\n",
            "Reached 60% accuracy so cancelling training!\n"
          ],
          "name": "stdout"
        },
        {
          "output_type": "execute_result",
          "data": {
            "text/plain": [
              "<tensorflow.python.keras.callbacks.History at 0x7febda203350>"
            ]
          },
          "metadata": {
            "tags": []
          },
          "execution_count": 5
        }
      ]
    },
    {
      "cell_type": "code",
      "metadata": {
        "id": "Su7HTJIN4vWH"
      },
      "source": [
        ""
      ],
      "execution_count": null,
      "outputs": []
    }
  ]
}